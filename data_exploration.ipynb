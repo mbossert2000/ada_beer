{
 "cells": [
  {
   "cell_type": "code",
   "execution_count": 23,
   "id": "8f71bd6d-bd2b-447c-bdda-6fdb145bab42",
   "metadata": {},
   "outputs": [],
   "source": [
    "import tarfile\n",
    "import pandas as pd\n",
    "import json"
   ]
  },
  {
   "cell_type": "markdown",
   "id": "30a3e93c-8805-4d65-977f-8e76d0ccc59b",
   "metadata": {},
   "source": [
    "# Loading the data"
   ]
  },
  {
   "cell_type": "code",
   "execution_count": 134,
   "id": "9b8c2481-f1ac-40bb-aea4-5b36aa68ebfd",
   "metadata": {},
   "outputs": [],
   "source": [
    "data_folder = './Data/'\n",
    "path_ba = data_folder + 'BeerAdvocate/'"
   ]
  },
  {
   "cell_type": "code",
   "execution_count": 138,
   "id": "1442b69f-2a86-4d75-9e15-43b116375101",
   "metadata": {},
   "outputs": [
    {
     "ename": "KeyboardInterrupt",
     "evalue": "",
     "output_type": "error",
     "traceback": [
      "\u001b[1;31m---------------------------------------------------------------------------\u001b[0m",
      "\u001b[1;31mKeyboardInterrupt\u001b[0m                         Traceback (most recent call last)",
      "Input \u001b[1;32mIn [138]\u001b[0m, in \u001b[0;36m<cell line: 7>\u001b[1;34m()\u001b[0m\n\u001b[0;32m      8\u001b[0m beer \u001b[38;5;241m=\u001b[39m {}\n\u001b[0;32m      9\u001b[0m review_list \u001b[38;5;241m=\u001b[39m []\n\u001b[1;32m---> 10\u001b[0m \u001b[38;5;28;01mfor\u001b[39;00m line \u001b[38;5;129;01min\u001b[39;00m file:\n\u001b[0;32m     11\u001b[0m     \u001b[38;5;28;01mif\u001b[39;00m line\u001b[38;5;241m.\u001b[39misspace():\n\u001b[0;32m     12\u001b[0m         review_list\u001b[38;5;241m.\u001b[39mappend(beer)\n",
      "File \u001b[1;32m~\\anaconda3\\envs\\ADA\\lib\\codecs.py:319\u001b[0m, in \u001b[0;36mBufferedIncrementalDecoder.decode\u001b[1;34m(self, input, final)\u001b[0m\n\u001b[0;32m    314\u001b[0m \u001b[38;5;28;01mdef\u001b[39;00m \u001b[38;5;21m_buffer_decode\u001b[39m(\u001b[38;5;28mself\u001b[39m, \u001b[38;5;28minput\u001b[39m, errors, final):\n\u001b[0;32m    315\u001b[0m     \u001b[38;5;66;03m# Overwrite this method in subclasses: It must decode input\u001b[39;00m\n\u001b[0;32m    316\u001b[0m     \u001b[38;5;66;03m# and return an (output, length consumed) tuple\u001b[39;00m\n\u001b[0;32m    317\u001b[0m     \u001b[38;5;28;01mraise\u001b[39;00m \u001b[38;5;167;01mNotImplementedError\u001b[39;00m\n\u001b[1;32m--> 319\u001b[0m \u001b[38;5;28;01mdef\u001b[39;00m \u001b[38;5;21mdecode\u001b[39m(\u001b[38;5;28mself\u001b[39m, \u001b[38;5;28minput\u001b[39m, final\u001b[38;5;241m=\u001b[39m\u001b[38;5;28;01mFalse\u001b[39;00m):\n\u001b[0;32m    320\u001b[0m     \u001b[38;5;66;03m# decode input (taking the buffer into account)\u001b[39;00m\n\u001b[0;32m    321\u001b[0m     data \u001b[38;5;241m=\u001b[39m \u001b[38;5;28mself\u001b[39m\u001b[38;5;241m.\u001b[39mbuffer \u001b[38;5;241m+\u001b[39m \u001b[38;5;28minput\u001b[39m\n\u001b[0;32m    322\u001b[0m     (result, consumed) \u001b[38;5;241m=\u001b[39m \u001b[38;5;28mself\u001b[39m\u001b[38;5;241m.\u001b[39m_buffer_decode(data, \u001b[38;5;28mself\u001b[39m\u001b[38;5;241m.\u001b[39merrors, final)\n",
      "\u001b[1;31mKeyboardInterrupt\u001b[0m: "
     ]
    }
   ],
   "source": [
    "#get csvs\n",
    "ba_beers = pd.read_csv(path_ba + \"beers.csv\")\n",
    "ba_users = pd.read_csv(path_ba + \"users.csv\")\n",
    "ba_brew = pd.read_csv(path_ba + \"breweries.csv\")\n",
    "\n",
    "#get reviews text data (warning, big file)\n",
    "with open(path_ba + \"reviews.txt\", \"r\", encoding='utf-8') as file:\n",
    "    beer = {}\n",
    "    review_list = []\n",
    "    for line in file:\n",
    "        if line.isspace():\n",
    "            review_list.append(beer)\n",
    "            beer = {}\n",
    "        else:\n",
    "            beer[line.split()[0][:-1]] =\" \".join(line.split()[1:])"
   ]
  },
  {
   "cell_type": "code",
   "execution_count": null,
   "id": "5b6c8535-8a90-43d4-9bf0-53c43c3c4230",
   "metadata": {},
   "outputs": [],
   "source": [
    "#making dataframe\n",
    "df_reviews = pd.DataFrame(review_list)\n",
    "for col in [\"beer_id\", \"brewery_id\", \"appearance\", \"aroma\", \"palate\", \"taste\", \"overall\", \"rating\"]:\n",
    "    df_reviews[col] = pd.to_numeric(df_reviews[col])\n",
    "df_reviews[\"date\"] = pd.to_datetime(df_reviews[\"date\"],unit='s')\n",
    "df_reviews.set_index(df_reviews[\"date\"])"
   ]
  },
  {
   "cell_type": "markdown",
   "id": "1920367a-72c4-4714-a9df-52a88b04e5ac",
   "metadata": {
    "tags": []
   },
   "source": [
    "# Data Visualisation"
   ]
  },
  {
   "cell_type": "markdown",
   "id": "d3e7da85-6910-4752-ad76-e4dda6da5ed8",
   "metadata": {},
   "source": [
    "## Reviews as a time serie"
   ]
  },
  {
   "cell_type": "code",
   "execution_count": null,
   "id": "d61c5f2b-8ca7-49ce-8406-0408905b076a",
   "metadata": {},
   "outputs": [],
   "source": [
    "df_reviews = "
   ]
  }
 ],
 "metadata": {
  "kernelspec": {
   "display_name": "Python [conda env:ADA] *",
   "language": "python",
   "name": "conda-env-ADA-py"
  },
  "language_info": {
   "codemirror_mode": {
    "name": "ipython",
    "version": 3
   },
   "file_extension": ".py",
   "mimetype": "text/x-python",
   "name": "python",
   "nbconvert_exporter": "python",
   "pygments_lexer": "ipython3",
   "version": "3.9.13"
  }
 },
 "nbformat": 4,
 "nbformat_minor": 5
}
